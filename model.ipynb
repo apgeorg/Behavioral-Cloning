{
 "cells": [
  {
   "cell_type": "code",
   "execution_count": null,
   "metadata": {
    "collapsed": true
   },
   "outputs": [],
   "source": [
    "from keras.models import Sequential\n",
    "from keras.layers import Flatten, Dense, Lambda, Dropout, Conv2D, MaxPooling2D, Input\n",
    "from keras.layers.normalization import BatchNormalization\n",
    "from utils import utils"
   ]
  },
  {
   "cell_type": "code",
   "execution_count": null,
   "metadata": {
    "collapsed": true
   },
   "outputs": [],
   "source": [
    "X_train, y_train = utils.get_train('data/IMG/', 'data/driving_log.csv')"
   ]
  },
  {
   "cell_type": "code",
   "execution_count": null,
   "metadata": {
    "collapsed": true
   },
   "outputs": [],
   "source": [
    "X_train.shape, y_train.shape"
   ]
  },
  {
   "cell_type": "code",
   "execution_count": null,
   "metadata": {
    "collapsed": true
   },
   "outputs": [],
   "source": [
    "img_height, img_width = X_train.shape[1], X_train.shape[2]\n",
    "img_shape = X_train.shape[1:]"
   ]
  },
  {
   "cell_type": "code",
   "execution_count": null,
   "metadata": {
    "collapsed": true
   },
   "outputs": [],
   "source": [
    "def create_model(p=0.6, input_shape=(160, 320, 3)):\n",
    "    model = Sequential()\n",
    "    model.add(Lambda(lambda x: x / 255. - .5, input_shape=input_shape))\n",
    "    # Convolutional \n",
    "    model.add(Conv2D(32, (3, 3), padding='same', activation ='relu'))\n",
    "    model.add(MaxPooling2D(pool_size =(2, 2)))\n",
    "    model.add(Conv2D(64, (3, 3), padding='same', activation ='relu'))\n",
    "    model.add(MaxPooling2D(pool_size=(2, 2)))\n",
    "    # Flatten\n",
    "    model.add(Flatten())\n",
    "    # Fully-Connection\n",
    "    model.add(Dense(64, activation='relu'))\n",
    "    model.add(BatchNormalization())\n",
    "    model.add(Dropout(p/2))\n",
    "    model.add(Dense(32, activation='relu'))\n",
    "    model.add(BatchNormalization())\n",
    "    model.add(Dropout(p))\n",
    "    model.add(Dense(1))\n",
    "    \n",
    "    model.compile(lr=1e-3, loss='mse', optimizer='adam', metrics=['accuracy'])   \n",
    "    return model "
   ]
  },
  {
   "cell_type": "code",
   "execution_count": null,
   "metadata": {
    "collapsed": true
   },
   "outputs": [],
   "source": [
    "def train(X, y, epochs, batch_size):\n",
    "    model = create_model(0.6, img_shape)\n",
    "    history = model.fit(X, y, epochs=epochs, batch_size=batch_size, validation_split=0.2, shuffle=True)\n",
    "    model.save('models/model.h5')\n",
    "    return history"
   ]
  },
  {
   "cell_type": "code",
   "execution_count": null,
   "metadata": {
    "collapsed": true
   },
   "outputs": [],
   "source": [
    "hist = train(X_train, y_train, epochs=5, batch_size=32)"
   ]
  },
  {
   "cell_type": "code",
   "execution_count": null,
   "metadata": {
    "collapsed": true
   },
   "outputs": [],
   "source": []
  }
 ],
 "metadata": {
  "kernelspec": {
   "display_name": "Python 3",
   "language": "python",
   "name": "python3"
  },
  "language_info": {
   "codemirror_mode": {
    "name": "ipython",
    "version": 3
   },
   "file_extension": ".py",
   "mimetype": "text/x-python",
   "name": "python",
   "nbconvert_exporter": "python",
   "pygments_lexer": "ipython3",
   "version": "3.6.0"
  }
 },
 "nbformat": 4,
 "nbformat_minor": 2
}
