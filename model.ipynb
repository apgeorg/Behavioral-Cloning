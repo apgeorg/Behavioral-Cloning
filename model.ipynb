{
 "cells": [
  {
   "cell_type": "code",
   "execution_count": null,
   "metadata": {},
   "outputs": [],
   "source": [
    "import numpy as np\n",
    "from keras.models import Sequential\n",
    "from keras.layers import Flatten, Dense, Lambda, Dropout, Conv2D, MaxPooling2D, Input\n",
    "from keras.callbacks import EarlyStopping, ModelCheckpoint\n",
    "from keras.layers.normalization import BatchNormalization\n",
    "from keras.optimizers import Adam\n",
    "from sklearn.model_selection import KFold, train_test_split\n",
    "from utils import utils\n",
    "\n",
    "seed = 42\n",
    "np.random.seed(seed)"
   ]
  },
  {
   "cell_type": "code",
   "execution_count": null,
   "metadata": {
    "collapsed": true
   },
   "outputs": [],
   "source": [
    "X_train, y_train = utils.get_train('data/IMG/', 'data/driving_log.csv')"
   ]
  },
  {
   "cell_type": "code",
   "execution_count": null,
   "metadata": {},
   "outputs": [],
   "source": [
    "X_train.shape, y_train.shape"
   ]
  },
  {
   "cell_type": "code",
   "execution_count": null,
   "metadata": {
    "collapsed": true
   },
   "outputs": [],
   "source": [
    "img_height, img_width = X_train.shape[1], X_train.shape[2]\n",
    "img_shape = X_train.shape[1:]"
   ]
  },
  {
   "cell_type": "code",
   "execution_count": null,
   "metadata": {
    "collapsed": true
   },
   "outputs": [],
   "source": [
    "def create_model(p=0.6, input_shape=(160, 320, 3)):\n",
    "    model = Sequential()\n",
    "    model.add(Lambda(lambda x: x / 255. - .5, input_shape=input_shape))\n",
    "    # Convolutional \n",
    "    model.add(Conv2D(32, (3, 3), padding='same', activation ='relu'))\n",
    "    model.add(MaxPooling2D(pool_size =(2, 2)))\n",
    "    model.add(Conv2D(64, (3, 3), padding='same', activation ='relu'))\n",
    "    model.add(MaxPooling2D(pool_size=(2, 2)))\n",
    "    # Flatten\n",
    "    model.add(Flatten())\n",
    "    # Fully-Connection\n",
    "    model.add(Dense(64, activation='relu'))\n",
    "    model.add(BatchNormalization())\n",
    "    model.add(Dropout(p/2))\n",
    "    model.add(Dense(32, activation='relu'))\n",
    "    model.add(BatchNormalization())\n",
    "    model.add(Dropout(p))\n",
    "    model.add(Dense(1))\n",
    "    \n",
    "    optimizer = Adam(1e-3)\n",
    "    model.compile(loss='mse', optimizer=optimizer, metrics=['accuracy'])   \n",
    "    return model "
   ]
  },
  {
   "cell_type": "code",
   "execution_count": null,
   "metadata": {
    "collapsed": true
   },
   "outputs": [],
   "source": [
    "def train(X, y, epochs, batch_size):\n",
    "    model = create_model(0.6, img_shape)\n",
    "    history = model.fit(X, y, epochs=epochs, batch_size=batch_size, validation_split=0.2, shuffle=True)\n",
    "    model.save('models/model.h5')\n",
    "    return history"
   ]
  },
  {
   "cell_type": "code",
   "execution_count": null,
   "metadata": {
    "collapsed": true
   },
   "outputs": [],
   "source": [
    "def trainCV(X, y, nfolds=5, epochs=10, batch_size=32, model_dir=\"./\"):\n",
    "    # K-Fold cross-validation \n",
    "    kfold = KFold(n_splits=nfolds, shuffle=True, random_state=seed)\n",
    "    # Pre-train\n",
    "    pre_model = create_model(p=0.6, input_shape=img_shape) \n",
    "    pre_model.fit(X, y, batch_size=32, epochs=1, shuffle=True, verbose=1)\n",
    "    pre_model.save_weights(\"pre-trained-model_w.h5\")\n",
    "    # Create directory for models\n",
    "    utils.create_dir(model_dir)\n",
    "    for k, (xi, cvi) in enumerate(kfold.split(X)):\n",
    "        print(\"Fold {} of {}:\".format(k+1, nfolds)) \n",
    "        model = create_model(p=0.6, input_shape=img_shape)\n",
    "        pre_model.load_weights(\"pre-trained-model_w.h5\")\n",
    "        trX, cvX = X[xi], X[cvi] \n",
    "        trY, cvY = y[xi], y[cvi]\n",
    "        # Callbacks\n",
    "        modelname = \"model\" + \"-fold-\" + str(k+1) + \"-{epoch:02d}-{val_acc:.3f}.h5\"\n",
    "        modelckpt = ModelCheckpoint(model_dir+\"/\" + modelname, monitor='val_acc', save_best_only=True)\n",
    "        earlystop = EarlyStopping(monitor='val_acc', patience=2, verbose=0)\n",
    "        callbacks = [earlystop, modelckpt]\n",
    "        # Training\n",
    "        model.fit(trX, trY, \n",
    "                  batch_size=32, \n",
    "                  epochs=epochs, \n",
    "                  shuffle=True, \n",
    "                  verbose=1,\n",
    "                  validation_data=(cvX, cvY), \n",
    "                  callbacks=callbacks)        "
   ]
  },
  {
   "cell_type": "code",
   "execution_count": null,
   "metadata": {},
   "outputs": [],
   "source": [
    "trainCV(X_train, y_train, nfolds=5, epochs=5, batch_size=32, model_dir=\"models/test\")"
   ]
  },
  {
   "cell_type": "code",
   "execution_count": null,
   "metadata": {
    "collapsed": true
   },
   "outputs": [],
   "source": []
  }
 ],
 "metadata": {
  "kernelspec": {
   "display_name": "Python 3",
   "language": "python",
   "name": "python3"
  },
  "language_info": {
   "codemirror_mode": {
    "name": "ipython",
    "version": 3
   },
   "file_extension": ".py",
   "mimetype": "text/x-python",
   "name": "python",
   "nbconvert_exporter": "python",
   "pygments_lexer": "ipython3",
   "version": "3.6.0"
  }
 },
 "nbformat": 4,
 "nbformat_minor": 2
}
